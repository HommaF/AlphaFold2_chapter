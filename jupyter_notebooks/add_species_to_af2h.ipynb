{
 "cells": [
  {
   "cell_type": "code",
   "execution_count": 1,
   "metadata": {},
   "outputs": [],
   "source": [
    "import sys\n",
    "import numpy as np\n",
    "import pandas as pd\n",
    "\n",
    "sys.path.append('/home/felix/jupyter/jupyter_notebooks/functions')"
   ]
  },
  {
   "cell_type": "code",
   "execution_count": 2,
   "metadata": {},
   "outputs": [],
   "source": [
    "import alphafold2_multimer_screen as af2h"
   ]
  },
  {
   "cell_type": "code",
   "execution_count": 3,
   "metadata": {},
   "outputs": [],
   "source": [
    "ral = pd.read_csv('/home/felix/thesis/chapter5_AF2H/figure3_PredSec_screen_and_select_candidates/data/apoplastic_proteomes/R_solanacearum_apoplastic_proteome.tsv', sep='\\t', index_col=0)\n",
    "ral_gmi1000 = pd.read_csv('/home/felix/thesis/chapter5_AF2H/figure3_PredSec_screen_and_select_candidates/data/apoplastic_proteomes/R_solanacearum_GMI1000_apoplastic_proteome.tsv', sep='\\t', index_col=0)\n",
    "pto = pd.read_csv('/home/felix/thesis/chapter5_AF2H/figure3_PredSec_screen_and_select_candidates/data/apoplastic_proteomes/PtoDC3000_apoplastic_proteome.tsv', sep='\\t', index_col=0)\n",
    "xpe = pd.read_csv('/home/felix/thesis/chapter5_AF2H/figure3_PredSec_screen_and_select_candidates/data/apoplastic_proteomes/X_perforans_apoplastic_proteome.tsv', sep='\\t', index_col=0)\n",
    "bci = pd.read_csv('/home/felix/thesis/chapter5_AF2H/figure3_PredSec_screen_and_select_candidates/data/apoplastic_proteomes/B_cinerea_apoplastic_proteome.tsv', sep='\\t', index_col=0)\n",
    "cfu = pd.read_csv('/home/felix/thesis/chapter5_AF2H/figure3_PredSec_screen_and_select_candidates/data/apoplastic_proteomes/C_fulvum_apoplastic_proteome.tsv', sep='\\t', index_col=0)\n",
    "fox = pd.read_csv('/home/felix/thesis/chapter5_AF2H/figure3_PredSec_screen_and_select_candidates/data/apoplastic_proteomes/F_oxysporum_apoplastic_proteome.tsv', sep='\\t', index_col=0)\n",
    "fol = pd.read_csv('/home/felix/thesis/chapter5_AF2H/figure3_PredSec_screen_and_select_candidates/data/apoplastic_proteomes/F_oxysporum_f_sp_lycopersici_apoplastic_proteome.tsv', sep='\\t', index_col=0)\n",
    "pin = pd.read_csv('/home/felix/thesis/chapter5_AF2H/figure3_PredSec_screen_and_select_candidates/data/apoplastic_proteomes/P_infestans_apoplastic_proteome.tsv', sep='\\t', index_col=0)\n",
    "ext = pd.read_csv('/home/felix/thesis/chapter5_AF2H/figure3_PredSec_screen_and_select_candidates/data/apoplastic_proteomes/added_effectors.tsv', sep='\\t')"
   ]
  },
  {
   "cell_type": "code",
   "execution_count": 4,
   "metadata": {},
   "outputs": [],
   "source": [
    "ral = af2h.spec_df(ral, 'R_solanacearum_IBSBF_1503')\n",
    "ral_gmi1000 = af2h.spec_df(ral_gmi1000, 'R_solanacearum_GMI1000')\n",
    "pto = af2h.spec_df(pto, 'PtoDC3000')\n",
    "xpe = af2h.spec_df(xpe, 'X_perforans')\n",
    "bci = af2h.spec_df(bci, 'B_cinerea')\n",
    "cfu = af2h.spec_df(cfu, 'C_fulvum')\n",
    "fox = af2h.spec_df(fox, 'F_oxysporum_NRRL_32931')\n",
    "fol = af2h.spec_df(fol, 'F_oxysporum_f_sp_lycopersici')\n",
    "pin = af2h.spec_df(pin, 'P_infestans')"
   ]
  },
  {
   "cell_type": "code",
   "execution_count": 5,
   "metadata": {},
   "outputs": [],
   "source": [
    "path = ral.append((ral_gmi1000, pto, xpe, bci, cfu, fox, fol, pin, ext), ignore_index=True)\n",
    "path.index = path.prot_id\n",
    "path.drop(columns=['prot_id'], inplace=True)"
   ]
  },
  {
   "cell_type": "code",
   "execution_count": 6,
   "metadata": {},
   "outputs": [],
   "source": [
    "df = pd.read_csv('/home/felix/thesis/chapter5_AF2H/figure3_PredSec_screen_and_select_candidates/data/predSec_screens_multimers_scoring.tsv', sep='\\t', index_col=0)"
   ]
  },
  {
   "cell_type": "code",
   "execution_count": 7,
   "metadata": {},
   "outputs": [],
   "source": [
    "for i in df.index:\n",
    "    prot = df.loc[i, 'B']\n",
    "\n",
    "    if prot in path.index:\n",
    "        df.loc[i, 'species'] = str(path[path.index == prot]['species'].values[0])"
   ]
  },
  {
   "cell_type": "code",
   "execution_count": 8,
   "metadata": {},
   "outputs": [],
   "source": [
    "df = df[df.species != 'F_oxysporum_NRRL_32931']"
   ]
  },
  {
   "cell_type": "code",
   "execution_count": 9,
   "metadata": {},
   "outputs": [],
   "source": [
    "#df.to_csv('/home/felix/Desktop/coding/alphafold/af2h/predicted_secretomes_screen/220207_predSecretome_P69B_Pip1_Pepsin_Chit_I_III_V.tsv', sep='\\t')"
   ]
  },
  {
   "cell_type": "code",
   "execution_count": null,
   "metadata": {},
   "outputs": [],
   "source": []
  }
 ],
 "metadata": {
  "kernelspec": {
   "display_name": "base",
   "language": "python",
   "name": "base"
  },
  "language_info": {
   "codemirror_mode": {
    "name": "ipython",
    "version": 3
   },
   "file_extension": ".py",
   "mimetype": "text/x-python",
   "name": "python",
   "nbconvert_exporter": "python",
   "pygments_lexer": "ipython3",
   "version": "3.8.13"
  }
 },
 "nbformat": 4,
 "nbformat_minor": 4
}
